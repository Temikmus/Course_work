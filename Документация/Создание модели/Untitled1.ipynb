{
 "cells": [
  {
   "cell_type": "code",
   "execution_count": 6,
   "id": "e8ad4512-f247-41c0-9beb-81fd94d71b12",
   "metadata": {},
   "outputs": [],
   "source": [
    "import pandas as pd\n",
    "import numpy as np\n",
    "from sklearn.model_selection import train_test_split\n",
    "from sklearn.linear_model import LinearRegression\n",
    "from sklearn.metrics import mean_squared_error, r2_score\n",
    "from sklearn.preprocessing import StandardScaler, OneHotEncoder\n",
    "from sklearn.compose import ColumnTransformer\n",
    "from sklearn.pipeline import Pipeline\n",
    "import statsmodels.api as sm\n",
    "import matplotlib.pyplot as plt\n",
    "import seaborn as sns\n",
    "from scipy import stats \n",
    "import statsmodels.api as sm\n",
    "from statsmodels.stats.outliers_influence import variance_inflation_factor"
   ]
  },
  {
   "cell_type": "code",
   "execution_count": 7,
   "id": "ecc8414a-9841-4fee-a40a-66fa69e2cbd3",
   "metadata": {},
   "outputs": [],
   "source": [
    "df = pd.read_csv(\"resume.csv\") "
   ]
  },
  {
   "cell_type": "code",
   "execution_count": 8,
   "id": "a8f3b788-2c95-4d8b-a41e-ebd6f48458d5",
   "metadata": {},
   "outputs": [],
   "source": [
    "df = df.dropna(subset=['russian_salary'])"
   ]
  },
  {
   "cell_type": "code",
   "execution_count": 9,
   "id": "db59a98c-4d80-44ea-86fa-689234beceeb",
   "metadata": {},
   "outputs": [],
   "source": [
    "df = df.drop(columns=[\n",
    "    'id_resume', 'created_at', 'updated_at', 'currency', 'salary', \n",
    "    'url'\n",
    "])"
   ]
  },
  {
   "cell_type": "code",
   "execution_count": 10,
   "id": "424aced4-e2f4-456b-8167-222b0830f26c",
   "metadata": {},
   "outputs": [
    {
     "name": "stdout",
     "output_type": "stream",
     "text": [
      "russian_salary              1.000000\n",
      "is_driver                   0.087907\n",
      "count_additional_courses    0.084228\n",
      "total_experience            0.053628\n",
      "age                         0.049933\n",
      "photo                       0.029935\n",
      "dtype: float64\n"
     ]
    }
   ],
   "source": [
    "with pd.option_context('display.max_rows', None):\n",
    "    print(df.corrwith(df['russian_salary'], numeric_only=True).sort_values(ascending=False))"
   ]
  },
  {
   "cell_type": "code",
   "execution_count": 20,
   "id": "24090ee0-b3a3-4ccf-a714-8e01cc42350c",
   "metadata": {},
   "outputs": [],
   "source": [
    "df_filtered = df[(df['russian_salary'] >= 30000) & (df['russian_salary'] <= 500000)]"
   ]
  },
  {
   "cell_type": "code",
   "execution_count": 22,
   "id": "6d63b17d-794d-4211-8e02-36cce3e45af9",
   "metadata": {},
   "outputs": [
    {
     "name": "stdout",
     "output_type": "stream",
     "text": [
      "russian_salary              1.000000\n",
      "count_additional_courses    0.099986\n",
      "is_driver                   0.087852\n",
      "photo                       0.072187\n",
      "total_experience            0.028265\n",
      "age                         0.002818\n",
      "dtype: float64\n"
     ]
    }
   ],
   "source": [
    "with pd.option_context('display.max_rows', None):\n",
    "    print(df_filtered.corrwith(df_filtered['russian_salary'], numeric_only=True).sort_values(ascending=False))"
   ]
  },
  {
   "cell_type": "code",
   "execution_count": 25,
   "id": "3e9c852a-cb0f-4f2c-87ee-38032fb0ee48",
   "metadata": {},
   "outputs": [],
   "source": [
    "salary_q = df['russian_salary'].quantile(0.99)\n",
    "data = df[df['russian_salary'] <= salary_q]"
   ]
  },
  {
   "cell_type": "code",
   "execution_count": 27,
   "id": "6017abe7-3012-44fd-ad4c-0fc9889db324",
   "metadata": {},
   "outputs": [
    {
     "name": "stdout",
     "output_type": "stream",
     "text": [
      "russian_salary              1.000000\n",
      "count_additional_courses    0.098772\n",
      "is_driver                   0.090186\n",
      "photo                       0.075642\n",
      "total_experience            0.030628\n",
      "age                         0.002232\n",
      "dtype: float64\n"
     ]
    }
   ],
   "source": [
    "with pd.option_context('display.max_rows', None):\n",
    "    print(data.corrwith(data['russian_salary'], numeric_only=True).sort_values(ascending=False))"
   ]
  },
  {
   "cell_type": "code",
   "execution_count": null,
   "id": "cf690424-05d7-408b-9d94-16bed7f25a74",
   "metadata": {},
   "outputs": [],
   "source": []
  }
 ],
 "metadata": {
  "kernelspec": {
   "display_name": "Python 3 (ipykernel)",
   "language": "python",
   "name": "python3"
  },
  "language_info": {
   "codemirror_mode": {
    "name": "ipython",
    "version": 3
   },
   "file_extension": ".py",
   "mimetype": "text/x-python",
   "name": "python",
   "nbconvert_exporter": "python",
   "pygments_lexer": "ipython3",
   "version": "3.12.4"
  }
 },
 "nbformat": 4,
 "nbformat_minor": 5
}
